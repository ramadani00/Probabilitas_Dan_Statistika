{
 "cells": [
  {
   "cell_type": "markdown",
   "id": "35115a40-66c6-49d5-a8c2-f75c83572b5a",
   "metadata": {},
   "source": [
    "# TI.23.C2_312310120_DINI RAMADANI"
   ]
  },
  {
   "cell_type": "markdown",
   "id": "0303ecb8-f823-464f-9650-6067a9fe3e61",
   "metadata": {},
   "source": [
    "# Deskripsi Data"
   ]
  },
  {
   "cell_type": "markdown",
   "id": "a9513c69-b185-422f-8ff9-835c0de88d0a",
   "metadata": {
    "jp-MarkdownHeadingCollapsed": true
   },
   "source": [
    "**Data ini berisi informasi tentang kondisi sosial-ekonomi rumah tangga yang digunakan untuk analisis kelayakan BPNT (Bantuan Pangan Non-Tunai).**\n",
    "\n",
    "Berikut adalah penjelasan setiap variabel :\n",
    "\n",
    "- BPNT (Bantuan Pangan Non-Tunai): Indikator apakah rumah tangga menerima bantuan sosial berbentuk pangan (0: tidak menerima, 1: menerima).\n",
    "- Klasifikasi Desa/Kota: Klasifikasi wilayah tempat tinggal rumah tangga (1: desa, 2: kota).\n",
    "- Jumlah Balita: Jumlah anak balita yang tinggal di rumah tangga tersebut.\n",
    "- Jumlah ART (Anggota Rumah Tangga): Total anggota rumah tangga.\n",
    "- Status Tempat Tinggal: Status kepemilikan rumah (1: milik sendiri, 2: sewa).\n",
    "- Luas Bangunan: Luas rumah dalam meter persegi.\n",
    "- Jenis Atap: Tipe atap rumah (1: berkualitas rendah, 2: sedang/tinggi).\n",
    "- Jenis Dinding: Tipe dinding rumah (1: berkualitas rendah, 2: sedang/tinggi).\n",
    "- Sumber Air Minum: Sumber air utama rumah tangga (1: bersih, 2: tidak bersih).\n",
    "- Bahan Bakar Masak: Jenis bahan bakar memasak (1: gas/listrik, 2: kayu/bahan lain).\n",
    "- Fasilitas KUR (Kredit Usaha Rakyat): Akses terhadap fasilitas pinjaman usaha (1: tidak, 2: ya).\n",
    "- Motor: Kepemilikan motor (1: tidak, 2: ya).\n",
    "- Mobil: Kepemilikan mobil (1: tidak, 2: ya).\n",
    "- Penghasilan Utama: Jenis penghasilan utama rumah tangga (1: pekerjaan tetap, 2: tidak tetap).\n",
    "---"
   ]
  },
  {
   "cell_type": "markdown",
   "id": "b92f2c6a-e9d7-48a7-8366-141ec06fa78c",
   "metadata": {},
   "source": [
    "# Import Libraries"
   ]
  },
  {
   "cell_type": "code",
   "execution_count": 86,
   "id": "66306b90-62fd-42b4-9d6f-daa715d450fb",
   "metadata": {},
   "outputs": [],
   "source": [
    "import pandas as pd\n",
    "import seaborn as sns\n",
    "import joblib\n",
    "import numpy as np\n",
    "from sklearn.preprocessing import LabelEncoder\n",
    "from sklearn.model_selection import train_test_split\n",
    "from sklearn.linear_model import LogisticRegression\n",
    "from sklearn.metrics import classification_report, confusion_matrix, roc_curve, auc, accuracy_score\n",
    "import matplotlib.pyplot as plt\n",
    "import statsmodels.api as sm"
   ]
  },
  {
   "cell_type": "markdown",
   "id": "ee6a7319-57cc-4d85-be93-32f5594f1f07",
   "metadata": {},
   "source": [
    "# Import Data"
   ]
  },
  {
   "cell_type": "code",
   "execution_count": 87,
   "id": "152eec46-ead0-473f-a79d-c9d96e349ff3",
   "metadata": {},
   "outputs": [
    {
     "data": {
      "text/html": [
       "<div>\n",
       "<style scoped>\n",
       "    .dataframe tbody tr th:only-of-type {\n",
       "        vertical-align: middle;\n",
       "    }\n",
       "\n",
       "    .dataframe tbody tr th {\n",
       "        vertical-align: top;\n",
       "    }\n",
       "\n",
       "    .dataframe thead th {\n",
       "        text-align: right;\n",
       "    }\n",
       "</style>\n",
       "<table border=\"1\" class=\"dataframe\">\n",
       "  <thead>\n",
       "    <tr style=\"text-align: right;\">\n",
       "      <th></th>\n",
       "      <th>BPNT</th>\n",
       "      <th>Klasifikasi Desa Kota</th>\n",
       "      <th>Jumlah Balita</th>\n",
       "      <th>Jumlah ART</th>\n",
       "      <th>Status Tempat Tinggal</th>\n",
       "      <th>Luas Bangunan</th>\n",
       "      <th>Jenis Atap</th>\n",
       "      <th>Jenis Dinding</th>\n",
       "      <th>Sumber Air Minum</th>\n",
       "      <th>Bahan Bakar Masak</th>\n",
       "      <th>Fasilitas KUR</th>\n",
       "      <th>Motor</th>\n",
       "      <th>Mobil</th>\n",
       "      <th>Penghasilan Utama</th>\n",
       "    </tr>\n",
       "  </thead>\n",
       "  <tbody>\n",
       "    <tr>\n",
       "      <th>0</th>\n",
       "      <td>0</td>\n",
       "      <td>1</td>\n",
       "      <td>0</td>\n",
       "      <td>4</td>\n",
       "      <td>1</td>\n",
       "      <td>112</td>\n",
       "      <td>2</td>\n",
       "      <td>1</td>\n",
       "      <td>1</td>\n",
       "      <td>1</td>\n",
       "      <td>2</td>\n",
       "      <td>1</td>\n",
       "      <td>1</td>\n",
       "      <td>1</td>\n",
       "    </tr>\n",
       "    <tr>\n",
       "      <th>1</th>\n",
       "      <td>0</td>\n",
       "      <td>1</td>\n",
       "      <td>0</td>\n",
       "      <td>6</td>\n",
       "      <td>1</td>\n",
       "      <td>120</td>\n",
       "      <td>2</td>\n",
       "      <td>1</td>\n",
       "      <td>1</td>\n",
       "      <td>1</td>\n",
       "      <td>2</td>\n",
       "      <td>1</td>\n",
       "      <td>1</td>\n",
       "      <td>1</td>\n",
       "    </tr>\n",
       "    <tr>\n",
       "      <th>2</th>\n",
       "      <td>0</td>\n",
       "      <td>1</td>\n",
       "      <td>0</td>\n",
       "      <td>3</td>\n",
       "      <td>1</td>\n",
       "      <td>120</td>\n",
       "      <td>2</td>\n",
       "      <td>1</td>\n",
       "      <td>1</td>\n",
       "      <td>1</td>\n",
       "      <td>1</td>\n",
       "      <td>1</td>\n",
       "      <td>2</td>\n",
       "      <td>1</td>\n",
       "    </tr>\n",
       "    <tr>\n",
       "      <th>3</th>\n",
       "      <td>0</td>\n",
       "      <td>1</td>\n",
       "      <td>0</td>\n",
       "      <td>2</td>\n",
       "      <td>1</td>\n",
       "      <td>180</td>\n",
       "      <td>2</td>\n",
       "      <td>1</td>\n",
       "      <td>1</td>\n",
       "      <td>1</td>\n",
       "      <td>2</td>\n",
       "      <td>1</td>\n",
       "      <td>1</td>\n",
       "      <td>2</td>\n",
       "    </tr>\n",
       "    <tr>\n",
       "      <th>4</th>\n",
       "      <td>0</td>\n",
       "      <td>1</td>\n",
       "      <td>1</td>\n",
       "      <td>5</td>\n",
       "      <td>1</td>\n",
       "      <td>180</td>\n",
       "      <td>2</td>\n",
       "      <td>2</td>\n",
       "      <td>2</td>\n",
       "      <td>1</td>\n",
       "      <td>2</td>\n",
       "      <td>1</td>\n",
       "      <td>2</td>\n",
       "      <td>1</td>\n",
       "    </tr>\n",
       "    <tr>\n",
       "      <th>...</th>\n",
       "      <td>...</td>\n",
       "      <td>...</td>\n",
       "      <td>...</td>\n",
       "      <td>...</td>\n",
       "      <td>...</td>\n",
       "      <td>...</td>\n",
       "      <td>...</td>\n",
       "      <td>...</td>\n",
       "      <td>...</td>\n",
       "      <td>...</td>\n",
       "      <td>...</td>\n",
       "      <td>...</td>\n",
       "      <td>...</td>\n",
       "      <td>...</td>\n",
       "    </tr>\n",
       "    <tr>\n",
       "      <th>1910</th>\n",
       "      <td>0</td>\n",
       "      <td>2</td>\n",
       "      <td>0</td>\n",
       "      <td>6</td>\n",
       "      <td>1</td>\n",
       "      <td>72</td>\n",
       "      <td>2</td>\n",
       "      <td>1</td>\n",
       "      <td>3</td>\n",
       "      <td>1</td>\n",
       "      <td>2</td>\n",
       "      <td>1</td>\n",
       "      <td>2</td>\n",
       "      <td>1</td>\n",
       "    </tr>\n",
       "    <tr>\n",
       "      <th>1911</th>\n",
       "      <td>0</td>\n",
       "      <td>2</td>\n",
       "      <td>0</td>\n",
       "      <td>5</td>\n",
       "      <td>1</td>\n",
       "      <td>54</td>\n",
       "      <td>2</td>\n",
       "      <td>1</td>\n",
       "      <td>3</td>\n",
       "      <td>1</td>\n",
       "      <td>2</td>\n",
       "      <td>1</td>\n",
       "      <td>2</td>\n",
       "      <td>1</td>\n",
       "    </tr>\n",
       "    <tr>\n",
       "      <th>1912</th>\n",
       "      <td>0</td>\n",
       "      <td>2</td>\n",
       "      <td>0</td>\n",
       "      <td>1</td>\n",
       "      <td>1</td>\n",
       "      <td>54</td>\n",
       "      <td>2</td>\n",
       "      <td>1</td>\n",
       "      <td>3</td>\n",
       "      <td>3</td>\n",
       "      <td>2</td>\n",
       "      <td>2</td>\n",
       "      <td>2</td>\n",
       "      <td>1</td>\n",
       "    </tr>\n",
       "    <tr>\n",
       "      <th>1913</th>\n",
       "      <td>0</td>\n",
       "      <td>2</td>\n",
       "      <td>0</td>\n",
       "      <td>1</td>\n",
       "      <td>1</td>\n",
       "      <td>45</td>\n",
       "      <td>2</td>\n",
       "      <td>3</td>\n",
       "      <td>2</td>\n",
       "      <td>3</td>\n",
       "      <td>2</td>\n",
       "      <td>2</td>\n",
       "      <td>2</td>\n",
       "      <td>2</td>\n",
       "    </tr>\n",
       "    <tr>\n",
       "      <th>1914</th>\n",
       "      <td>0</td>\n",
       "      <td>2</td>\n",
       "      <td>0</td>\n",
       "      <td>4</td>\n",
       "      <td>1</td>\n",
       "      <td>62</td>\n",
       "      <td>2</td>\n",
       "      <td>1</td>\n",
       "      <td>2</td>\n",
       "      <td>1</td>\n",
       "      <td>2</td>\n",
       "      <td>1</td>\n",
       "      <td>2</td>\n",
       "      <td>1</td>\n",
       "    </tr>\n",
       "  </tbody>\n",
       "</table>\n",
       "<p>1915 rows × 14 columns</p>\n",
       "</div>"
      ],
      "text/plain": [
       "      BPNT  Klasifikasi Desa Kota  Jumlah Balita  Jumlah ART  \\\n",
       "0        0                      1              0           4   \n",
       "1        0                      1              0           6   \n",
       "2        0                      1              0           3   \n",
       "3        0                      1              0           2   \n",
       "4        0                      1              1           5   \n",
       "...    ...                    ...            ...         ...   \n",
       "1910     0                      2              0           6   \n",
       "1911     0                      2              0           5   \n",
       "1912     0                      2              0           1   \n",
       "1913     0                      2              0           1   \n",
       "1914     0                      2              0           4   \n",
       "\n",
       "      Status Tempat Tinggal  Luas Bangunan  Jenis Atap  Jenis Dinding  \\\n",
       "0                         1            112           2              1   \n",
       "1                         1            120           2              1   \n",
       "2                         1            120           2              1   \n",
       "3                         1            180           2              1   \n",
       "4                         1            180           2              2   \n",
       "...                     ...            ...         ...            ...   \n",
       "1910                      1             72           2              1   \n",
       "1911                      1             54           2              1   \n",
       "1912                      1             54           2              1   \n",
       "1913                      1             45           2              3   \n",
       "1914                      1             62           2              1   \n",
       "\n",
       "      Sumber Air Minum  Bahan Bakar Masak  Fasilitas KUR  Motor  Mobil  \\\n",
       "0                    1                  1              2      1      1   \n",
       "1                    1                  1              2      1      1   \n",
       "2                    1                  1              1      1      2   \n",
       "3                    1                  1              2      1      1   \n",
       "4                    2                  1              2      1      2   \n",
       "...                ...                ...            ...    ...    ...   \n",
       "1910                 3                  1              2      1      2   \n",
       "1911                 3                  1              2      1      2   \n",
       "1912                 3                  3              2      2      2   \n",
       "1913                 2                  3              2      2      2   \n",
       "1914                 2                  1              2      1      2   \n",
       "\n",
       "      Penghasilan Utama  \n",
       "0                     1  \n",
       "1                     1  \n",
       "2                     1  \n",
       "3                     2  \n",
       "4                     1  \n",
       "...                 ...  \n",
       "1910                  1  \n",
       "1911                  1  \n",
       "1912                  1  \n",
       "1913                  2  \n",
       "1914                  1  \n",
       "\n",
       "[1915 rows x 14 columns]"
      ]
     },
     "execution_count": 87,
     "metadata": {},
     "output_type": "execute_result"
    }
   ],
   "source": [
    "# Membaca data dari file Excel\n",
    "file_path = r\"C:\\Users\\DELL\\Downloads\\DATA TUGAS REGRESI LOGISTIK.xlsx\"\n",
    "\n",
    "# Load data\n",
    "df = pd.read_excel(file_path)\n",
    "\n",
    "df"
   ]
  },
  {
   "cell_type": "markdown",
   "id": "3477999f-4913-4f47-81eb-4528bec75dc5",
   "metadata": {},
   "source": [
    "# Mengubah Data Numerik Menjadi Data Kategorikal"
   ]
  },
  {
   "cell_type": "code",
   "execution_count": 88,
   "id": "123694b7-998c-4981-9caa-02ffb9663296",
   "metadata": {},
   "outputs": [],
   "source": [
    "df['BPNT'] = df['BPNT'].replace({0: 'tidak menerima', 1: 'menerima'})\n",
    "df['Klasifikasi Desa Kota'] = df['Klasifikasi Desa Kota'].replace({1: 'Desa', 2: 'Kota'})\n",
    "df['Status Tempat Tinggal'] = df['Status Tempat Tinggal'].replace({1: 'milik sendiri', 2: 'sewa'})\n",
    "df['Motor'] = df['Motor'].replace({1: 'Tidak', 2: 'Ya'})\n",
    "df['Mobil'] = df['Mobil'].replace({1: 'Tidak', 2: 'Ya'})\n",
    "df['Penghasilan Utama'] = df['Penghasilan Utama'].replace({1: 'Tetap', 2: 'Tidak Tetap'})"
   ]
  },
  {
   "cell_type": "markdown",
   "id": "d8641dc2-306b-43c9-8a03-16e91a7f4e41",
   "metadata": {},
   "source": [
    "# Karakteristik Data"
   ]
  },
  {
   "cell_type": "markdown",
   "id": "a7c578f3-b6dc-42f6-92bc-9961afd8148c",
   "metadata": {},
   "source": [
    "##### **Karakteristik BPNT(variabel respon)**"
   ]
  },
  {
   "cell_type": "code",
   "execution_count": 89,
   "id": "d9107901-4fe3-4725-9340-b1ab382f695f",
   "metadata": {},
   "outputs": [
    {
     "data": {
      "text/plain": [
       "BPNT\n",
       "tidak menerima    1334\n",
       "menerima           581\n",
       "Name: count, dtype: int64"
      ]
     },
     "execution_count": 89,
     "metadata": {},
     "output_type": "execute_result"
    }
   ],
   "source": [
    "df[\"BPNT\"].value_counts()"
   ]
  },
  {
   "cell_type": "code",
   "execution_count": 90,
   "id": "d001c4a5-9901-465e-b3f3-6a875f6cf81c",
   "metadata": {},
   "outputs": [
    {
     "data": {
      "text/plain": [
       "<Axes: ylabel='count'>"
      ]
     },
     "execution_count": 90,
     "metadata": {},
     "output_type": "execute_result"
    },
    {
     "data": {
      "image/png": "[encoded data removed]",
      "text/plain": [
       "<Figure size 640x480 with 1 Axes>"
      ]
     },
     "metadata": {},
     "output_type": "display_data"
    }
   ],
   "source": [
    "df[\"BPNT\"].value_counts().plot(kind='pie')"
   ]
  },
  {
   "cell_type": "markdown",
   "id": "dded7e45-010b-4386-8a46-1b4f79b53214",
   "metadata": {},
   "source": [
    "**Grafik Pie Chart**\n",
    "- *Warna biru* menunjukkan jumlah rumah tangga yang tidak menerima bantuan.\n",
    "- *Warna oranye* menunjukkan jumlah rumah tangga yang menerima bantuan.\n",
    "\n",
    "*Ukuran area memperlihatkan perbedaan proporsi antara kedua kelompok, dengan kategori \"tidak menerima\" jauh lebih dominan.*\n",
    "\n",
    "---"
   ]
  },
  {
   "cell_type": "markdown",
   "id": "6859a6ae-0bc2-4c3c-bcf8-9ea57aad996c",
   "metadata": {},
   "source": [
    "##### **Karakteristik BPNT Berdasarkan Klasifikasi Desa Kota**"
   ]
  },
  {
   "cell_type": "code",
   "execution_count": 91,
   "id": "e7bdd2e6-f1db-4328-8dd4-6453322d9d37",
   "metadata": {},
   "outputs": [
    {
     "data": {
      "text/plain": [
       "<Axes: xlabel='Klasifikasi Desa Kota', ylabel='count'>"
      ]
     },
     "execution_count": 91,
     "metadata": {},
     "output_type": "execute_result"
    },
    {
     "data": {
      "image/png": "[encoded data removed]",
      "text/plain": [
       "<Figure size 640x480 with 1 Axes>"
      ]
     },
     "metadata": {},
     "output_type": "display_data"
    }
   ],
   "source": [
    "sns.countplot(data=df, x='Klasifikasi Desa Kota', hue=\"BPNT\")"
   ]
  },
  {
   "cell_type": "markdown",
   "id": "4d6f76ba-c3fb-45a2-b7b7-32a36a94f5bc",
   "metadata": {},
   "source": [
    "**Interpretasi:**\n",
    "\n",
    "- Lokasi tempat tinggal (desa atau kota) mempengaruhi peluang suatu keluarga untuk menerima bantuan BPNT.\n",
    "- Keluarga di daerah kota cenderung lebih banyak menerima bantuan BPNT dibandingkan dengan keluarga di daerah desa.\n",
    "---"
   ]
  },
  {
   "cell_type": "markdown",
   "id": "369abe26-36a3-4a2a-a8bb-ba2626d2aba4",
   "metadata": {},
   "source": [
    "##### **Karakteristik BPNT Berdasarkan Jumlah Balita**"
   ]
  },
  {
   "cell_type": "code",
   "execution_count": 92,
   "id": "f0db451b-aa7b-458a-a765-184dfe80c43a",
   "metadata": {},
   "outputs": [
    {
     "data": {
      "text/plain": [
       "<Axes: xlabel='Jumlah Balita', ylabel='count'>"
      ]
     },
     "execution_count": 92,
     "metadata": {},
     "output_type": "execute_result"
    },
    {
     "data": {
      "image/png": "[encoded data removed]",
      "text/plain": [
       "<Figure size 640x480 with 1 Axes>"
      ]
     },
     "metadata": {},
     "output_type": "display_data"
    }
   ],
   "source": [
    "sns.countplot(data=df, x='Jumlah Balita', hue=\"BPNT\")"
   ]
  },
  {
   "cell_type": "markdown",
   "id": "8d9b9607-c839-4d55-a1be-9eb00f9f4002",
   "metadata": {},
   "source": [
    "**Interpretasi:**\n",
    "\n",
    "- *Keluarga tanpa balita* : Sebagian besar keluarga yang tidak memiliki balita (jumlah balita = 0) tidak menerima bantuan BPNT. \n",
    "- *Keluarga dengan 1 balita* : Jumlah keluarga yang memiliki 1 balita dan menerima BPNT juga cukup banyak. \n",
    "- *Keluarga dengan 2 atau 3 balita* : Semakin banyak jumlah balita dalam keluarga, semakin sedikit jumlah keluarga yang menerima BPNT.\n",
    "\n",
    "---"
   ]
  },
  {
   "cell_type": "markdown",
   "id": "e5524c3b-95b9-470f-825b-3f44cd931c34",
   "metadata": {},
   "source": [
    "##### **Karakteristik BPNT Berdasarkan Jumlah ART**"
   ]
  },
  {
   "cell_type": "code",
   "execution_count": 93,
   "id": "ba2d9b5f-e0ae-428a-a003-011dd69716c2",
   "metadata": {},
   "outputs": [
    {
     "data": {
      "text/plain": [
       "<Axes: xlabel='Jumlah ART', ylabel='count'>"
      ]
     },
     "execution_count": 93,
     "metadata": {},
     "output_type": "execute_result"
    },
    {
     "data": {
      "image/png": "[encoded data removed]",
      "text/plain": [
       "<Figure size 640x480 with 1 Axes>"
      ]
     },
     "metadata": {},
     "output_type": "display_data"
    }
   ],
   "source": [
    "sns.countplot(data=df, x='Jumlah ART', hue=\"BPNT\")"
   ]
  },
  {
   "cell_type": "markdown",
   "id": "39465a3e-2387-464d-9f09-cbdb36d26fae",
   "metadata": {},
   "source": [
    "**Interpretasi:**\n",
    "\n",
    "- *Jumlah ART dan Penerima BPNT* : Grafik menunjukkan bahwa jumlah ART dalam sebuah keluarga memiliki pengaruh terhadap kemungkinan keluarga tersebut menerima bantuan BPNT.\n",
    "- *Keluarga dengan Jumlah ART Sedang* : Tampaknya, keluarga dengan jumlah ART sekitar 2-4 orang cenderung lebih banyak menerima bantuan BPNT.\n",
    "- *Keluarga dengan Jumlah ART Banyak atau Sedikit* : Keluarga dengan jumlah ART yang sangat sedikit (1 orang) atau sangat banyak (9-10 orang) cenderung lebih sedikit menerima bantuan BPNT.\n",
    "\n",
    "---"
   ]
  },
  {
   "cell_type": "markdown",
   "id": "1f259513-2634-49a7-a51d-7ba1f36ae363",
   "metadata": {},
   "source": [
    "##### **Karakteristik BPNT Berdasarkan Status Tempat Tinggal**"
   ]
  },
  {
   "cell_type": "code",
   "execution_count": 94,
   "id": "65b6636e-616d-4775-8df5-9c4c0e344a70",
   "metadata": {},
   "outputs": [
    {
     "data": {
      "text/plain": [
       "<Axes: xlabel='Status Tempat Tinggal', ylabel='count'>"
      ]
     },
     "execution_count": 94,
     "metadata": {},
     "output_type": "execute_result"
    },
    {
     "data": {
      "image/png": "[encoded data removed]",
      "text/plain": [
       "<Figure size 640x480 with 1 Axes>"
      ]
     },
     "metadata": {},
     "output_type": "display_data"
    }
   ],
   "source": [
    "sns.countplot(data=df, x='Status Tempat Tinggal', hue=\"BPNT\")"
   ]
  },
  {
   "cell_type": "markdown",
   "id": "2bd9496f-5443-4039-ad8f-9c4ec75bddd0",
   "metadata": {},
   "source": [
    "**Interpretasi:**\n",
    "\n",
    "-  Status kepemilikan tempat tinggal mempengaruhi peluang suatu keluarga untuk menerima bantuan BPNT.\n",
    "\n",
    "---"
   ]
  },
  {
   "cell_type": "markdown",
   "id": "cc378fb7-7548-4844-8db1-8c4ddb64db91",
   "metadata": {},
   "source": [
    "##### **Karakteristik BPNT Berdasarkan Kepemilikan Motor**"
   ]
  },
  {
   "cell_type": "code",
   "execution_count": 95,
   "id": "c4ad50d8-d07f-47ad-800a-b31b1b627bef",
   "metadata": {},
   "outputs": [
    {
     "data": {
      "text/plain": [
       "<Axes: xlabel='Motor', ylabel='count'>"
      ]
     },
     "execution_count": 95,
     "metadata": {},
     "output_type": "execute_result"
    },
    {
     "data": {
      "image/png": "[encoded data removed]",
      "text/plain": [
       "<Figure size 640x480 with 1 Axes>"
      ]
     },
     "metadata": {},
     "output_type": "display_data"
    }
   ],
   "source": [
    "sns.countplot(data=df, x='Motor', hue=\"BPNT\")"
   ]
  },
  {
   "cell_type": "markdown",
   "id": "adec5174-80ed-4eaa-98d1-1e11d355645d",
   "metadata": {},
   "source": [
    "**Interpretasi:**\n",
    "\n",
    "- Keluarga yang tidak memiliki motor cenderung lebih banyak menerima bantuan BPNT dibandingkan dengan keluarga yang memiliki motor.\n",
    "\n",
    "---"
   ]
  },
  {
   "cell_type": "markdown",
   "id": "4e334c17-9b4b-4e71-a2e9-ced9fdacb86c",
   "metadata": {},
   "source": [
    "##### **Karakteristik BPNT Berdasarkan Kepemilikan Mobil**"
   ]
  },
  {
   "cell_type": "code",
   "execution_count": 96,
   "id": "c7663897-0962-49db-a5bc-dcb5c40248af",
   "metadata": {},
   "outputs": [
    {
     "data": {
      "text/plain": [
       "<Axes: xlabel='Mobil', ylabel='count'>"
      ]
     },
     "execution_count": 96,
     "metadata": {},
     "output_type": "execute_result"
    },
    {
     "data": {
      "image/png": "[encoded data removed]",
      "text/plain": [
       "<Figure size 640x480 with 1 Axes>"
      ]
     },
     "metadata": {},
     "output_type": "display_data"
    }
   ],
   "source": [
    "sns.countplot(data=df, x='Mobil', hue=\"BPNT\")"
   ]
  },
  {
   "cell_type": "markdown",
   "id": "0d6b5ac1-4045-4301-8ea4-338ac8f71fe7",
   "metadata": {},
   "source": [
    "**Interpretasi:**\n",
    "\n",
    "- Sebagian besar keluarga yang memiliki mobil tidak menerima bantuan BPNT.\n",
    "\n",
    "---"
   ]
  },
  {
   "cell_type": "markdown",
   "id": "66668e97-8077-4029-ba74-ebde9d799ba7",
   "metadata": {},
   "source": [
    "##### **Karakteristik BPNT Berdasarkan Penghasilan Utama**"
   ]
  },
  {
   "cell_type": "code",
   "execution_count": 97,
   "id": "964ddf49-9b28-46b2-9b3c-9bdaca6d4f3d",
   "metadata": {},
   "outputs": [
    {
     "data": {
      "text/plain": [
       "<Axes: xlabel='Penghasilan Utama', ylabel='count'>"
      ]
     },
     "execution_count": 97,
     "metadata": {},
     "output_type": "execute_result"
    },
    {
     "data": {
      "image/png": "[encoded data removed]",
      "text/plain": [
       "<Figure size 640x480 with 1 Axes>"
      ]
     },
     "metadata": {},
     "output_type": "display_data"
    }
   ],
   "source": [
    "sns.countplot(data=df, x='Penghasilan Utama', hue=\"BPNT\")"
   ]
  },
  {
   "cell_type": "markdown",
   "id": "514f28cb-d7ac-4b46-b8c7-a5f766503f43",
   "metadata": {},
   "source": [
    "**Interpretasi:**\n",
    "\n",
    "- Keluarga dengan pekerjaan tetap cenderung lebih jarang menerima bantuan BPNT.\n",
    "\n",
    "---"
   ]
  },
  {
   "cell_type": "markdown",
   "id": "e6c3914d-6c54-4872-9cdc-3d8833862eab",
   "metadata": {},
   "source": [
    "# Reprossesing Data"
   ]
  },
  {
   "cell_type": "code",
   "execution_count": 98,
   "id": "736436cf-556b-4135-8f35-937cec28481a",
   "metadata": {},
   "outputs": [
    {
     "data": {
      "text/html": [
       "<div>\n",
       "<style scoped>\n",
       "    .dataframe tbody tr th:only-of-type {\n",
       "        vertical-align: middle;\n",
       "    }\n",
       "\n",
       "    .dataframe tbody tr th {\n",
       "        vertical-align: top;\n",
       "    }\n",
       "\n",
       "    .dataframe thead th {\n",
       "        text-align: right;\n",
       "    }\n",
       "</style>\n",
       "<table border=\"1\" class=\"dataframe\">\n",
       "  <thead>\n",
       "    <tr style=\"text-align: right;\">\n",
       "      <th></th>\n",
       "      <th>BPNT</th>\n",
       "      <th>Klasifikasi Desa Kota</th>\n",
       "      <th>Jumlah Balita</th>\n",
       "      <th>Jumlah ART</th>\n",
       "      <th>Status Tempat Tinggal</th>\n",
       "      <th>Luas Bangunan</th>\n",
       "      <th>Jenis Atap</th>\n",
       "      <th>Jenis Dinding</th>\n",
       "      <th>Sumber Air Minum</th>\n",
       "      <th>Bahan Bakar Masak</th>\n",
       "      <th>Fasilitas KUR</th>\n",
       "      <th>Motor</th>\n",
       "      <th>Mobil</th>\n",
       "      <th>Penghasilan Utama</th>\n",
       "    </tr>\n",
       "  </thead>\n",
       "  <tbody>\n",
       "    <tr>\n",
       "      <th>0</th>\n",
       "      <td>0</td>\n",
       "      <td>1</td>\n",
       "      <td>0</td>\n",
       "      <td>4</td>\n",
       "      <td>1</td>\n",
       "      <td>112</td>\n",
       "      <td>2</td>\n",
       "      <td>1</td>\n",
       "      <td>1</td>\n",
       "      <td>1</td>\n",
       "      <td>2</td>\n",
       "      <td>1</td>\n",
       "      <td>1</td>\n",
       "      <td>1</td>\n",
       "    </tr>\n",
       "    <tr>\n",
       "      <th>1</th>\n",
       "      <td>0</td>\n",
       "      <td>1</td>\n",
       "      <td>0</td>\n",
       "      <td>6</td>\n",
       "      <td>1</td>\n",
       "      <td>120</td>\n",
       "      <td>2</td>\n",
       "      <td>1</td>\n",
       "      <td>1</td>\n",
       "      <td>1</td>\n",
       "      <td>2</td>\n",
       "      <td>1</td>\n",
       "      <td>1</td>\n",
       "      <td>1</td>\n",
       "    </tr>\n",
       "    <tr>\n",
       "      <th>2</th>\n",
       "      <td>0</td>\n",
       "      <td>1</td>\n",
       "      <td>0</td>\n",
       "      <td>3</td>\n",
       "      <td>1</td>\n",
       "      <td>120</td>\n",
       "      <td>2</td>\n",
       "      <td>1</td>\n",
       "      <td>1</td>\n",
       "      <td>1</td>\n",
       "      <td>1</td>\n",
       "      <td>1</td>\n",
       "      <td>2</td>\n",
       "      <td>1</td>\n",
       "    </tr>\n",
       "    <tr>\n",
       "      <th>3</th>\n",
       "      <td>0</td>\n",
       "      <td>1</td>\n",
       "      <td>0</td>\n",
       "      <td>2</td>\n",
       "      <td>1</td>\n",
       "      <td>180</td>\n",
       "      <td>2</td>\n",
       "      <td>1</td>\n",
       "      <td>1</td>\n",
       "      <td>1</td>\n",
       "      <td>2</td>\n",
       "      <td>1</td>\n",
       "      <td>1</td>\n",
       "      <td>2</td>\n",
       "    </tr>\n",
       "    <tr>\n",
       "      <th>4</th>\n",
       "      <td>0</td>\n",
       "      <td>1</td>\n",
       "      <td>1</td>\n",
       "      <td>5</td>\n",
       "      <td>1</td>\n",
       "      <td>180</td>\n",
       "      <td>2</td>\n",
       "      <td>2</td>\n",
       "      <td>2</td>\n",
       "      <td>1</td>\n",
       "      <td>2</td>\n",
       "      <td>1</td>\n",
       "      <td>2</td>\n",
       "      <td>1</td>\n",
       "    </tr>\n",
       "    <tr>\n",
       "      <th>...</th>\n",
       "      <td>...</td>\n",
       "      <td>...</td>\n",
       "      <td>...</td>\n",
       "      <td>...</td>\n",
       "      <td>...</td>\n",
       "      <td>...</td>\n",
       "      <td>...</td>\n",
       "      <td>...</td>\n",
       "      <td>...</td>\n",
       "      <td>...</td>\n",
       "      <td>...</td>\n",
       "      <td>...</td>\n",
       "      <td>...</td>\n",
       "      <td>...</td>\n",
       "    </tr>\n",
       "    <tr>\n",
       "      <th>1910</th>\n",
       "      <td>0</td>\n",
       "      <td>2</td>\n",
       "      <td>0</td>\n",
       "      <td>6</td>\n",
       "      <td>1</td>\n",
       "      <td>72</td>\n",
       "      <td>2</td>\n",
       "      <td>1</td>\n",
       "      <td>3</td>\n",
       "      <td>1</td>\n",
       "      <td>2</td>\n",
       "      <td>1</td>\n",
       "      <td>2</td>\n",
       "      <td>1</td>\n",
       "    </tr>\n",
       "    <tr>\n",
       "      <th>1911</th>\n",
       "      <td>0</td>\n",
       "      <td>2</td>\n",
       "      <td>0</td>\n",
       "      <td>5</td>\n",
       "      <td>1</td>\n",
       "      <td>54</td>\n",
       "      <td>2</td>\n",
       "      <td>1</td>\n",
       "      <td>3</td>\n",
       "      <td>1</td>\n",
       "      <td>2</td>\n",
       "      <td>1</td>\n",
       "      <td>2</td>\n",
       "      <td>1</td>\n",
       "    </tr>\n",
       "    <tr>\n",
       "      <th>1912</th>\n",
       "      <td>0</td>\n",
       "      <td>2</td>\n",
       "      <td>0</td>\n",
       "      <td>1</td>\n",
       "      <td>1</td>\n",
       "      <td>54</td>\n",
       "      <td>2</td>\n",
       "      <td>1</td>\n",
       "      <td>3</td>\n",
       "      <td>3</td>\n",
       "      <td>2</td>\n",
       "      <td>2</td>\n",
       "      <td>2</td>\n",
       "      <td>1</td>\n",
       "    </tr>\n",
       "    <tr>\n",
       "      <th>1913</th>\n",
       "      <td>0</td>\n",
       "      <td>2</td>\n",
       "      <td>0</td>\n",
       "      <td>1</td>\n",
       "      <td>1</td>\n",
       "      <td>45</td>\n",
       "      <td>2</td>\n",
       "      <td>3</td>\n",
       "      <td>2</td>\n",
       "      <td>3</td>\n",
       "      <td>2</td>\n",
       "      <td>2</td>\n",
       "      <td>2</td>\n",
       "      <td>2</td>\n",
       "    </tr>\n",
       "    <tr>\n",
       "      <th>1914</th>\n",
       "      <td>0</td>\n",
       "      <td>2</td>\n",
       "      <td>0</td>\n",
       "      <td>4</td>\n",
       "      <td>1</td>\n",
       "      <td>62</td>\n",
       "      <td>2</td>\n",
       "      <td>1</td>\n",
       "      <td>2</td>\n",
       "      <td>1</td>\n",
       "      <td>2</td>\n",
       "      <td>1</td>\n",
       "      <td>2</td>\n",
       "      <td>1</td>\n",
       "    </tr>\n",
       "  </tbody>\n",
       "</table>\n",
       "<p>1915 rows × 14 columns</p>\n",
       "</div>"
      ],
      "text/plain": [
       "      BPNT  Klasifikasi Desa Kota  Jumlah Balita  Jumlah ART  \\\n",
       "0        0                      1              0           4   \n",
       "1        0                      1              0           6   \n",
       "2        0                      1              0           3   \n",
       "3        0                      1              0           2   \n",
       "4        0                      1              1           5   \n",
       "...    ...                    ...            ...         ...   \n",
       "1910     0                      2              0           6   \n",
       "1911     0                      2              0           5   \n",
       "1912     0                      2              0           1   \n",
       "1913     0                      2              0           1   \n",
       "1914     0                      2              0           4   \n",
       "\n",
       "      Status Tempat Tinggal  Luas Bangunan  Jenis Atap  Jenis Dinding  \\\n",
       "0                         1            112           2              1   \n",
       "1                         1            120           2              1   \n",
       "2                         1            120           2              1   \n",
       "3                         1            180           2              1   \n",
       "4                         1            180           2              2   \n",
       "...                     ...            ...         ...            ...   \n",
       "1910                      1             72           2              1   \n",
       "1911                      1             54           2              1   \n",
       "1912                      1             54           2              1   \n",
       "1913                      1             45           2              3   \n",
       "1914                      1             62           2              1   \n",
       "\n",
       "      Sumber Air Minum  Bahan Bakar Masak  Fasilitas KUR  Motor  Mobil  \\\n",
       "0                    1                  1              2      1      1   \n",
       "1                    1                  1              2      1      1   \n",
       "2                    1                  1              1      1      2   \n",
       "3                    1                  1              2      1      1   \n",
       "4                    2                  1              2      1      2   \n",
       "...                ...                ...            ...    ...    ...   \n",
       "1910                 3                  1              2      1      2   \n",
       "1911                 3                  1              2      1      2   \n",
       "1912                 3                  3              2      2      2   \n",
       "1913                 2                  3              2      2      2   \n",
       "1914                 2                  1              2      1      2   \n",
       "\n",
       "      Penghasilan Utama  \n",
       "0                     1  \n",
       "1                     1  \n",
       "2                     1  \n",
       "3                     2  \n",
       "4                     1  \n",
       "...                 ...  \n",
       "1910                  1  \n",
       "1911                  1  \n",
       "1912                  1  \n",
       "1913                  2  \n",
       "1914                  1  \n",
       "\n",
       "[1915 rows x 14 columns]"
      ]
     },
     "execution_count": 98,
     "metadata": {},
     "output_type": "execute_result"
    }
   ],
   "source": [
    "# Membaca data dari file Excel\n",
    "file_path = r\"C:\\Users\\DELL\\Downloads\\DATA TUGAS REGRESI LOGISTIK.xlsx\"\n",
    "\n",
    "# Load data\n",
    "df = pd.read_excel(file_path)\n",
    "\n",
    "df"
   ]
  },
  {
   "cell_type": "code",
   "execution_count": 99,
   "id": "ba68007d-5c7c-487e-8626-5d0d9275698e",
   "metadata": {},
   "outputs": [
    {
     "name": "stdout",
     "output_type": "stream",
     "text": [
      "\n",
      "Missing Values Check:\n",
      "BPNT                     0\n",
      "Klasifikasi Desa Kota    0\n",
      "Jumlah Balita            0\n",
      "Jumlah ART               0\n",
      "Status Tempat Tinggal    0\n",
      "Luas Bangunan            0\n",
      "Jenis Atap               0\n",
      "Jenis Dinding            0\n",
      "Sumber Air Minum         0\n",
      "Bahan Bakar Masak        0\n",
      "Fasilitas KUR            0\n",
      "Motor                    0\n",
      "Mobil                    0\n",
      "Penghasilan Utama        0\n",
      "dtype: int64\n"
     ]
    }
   ],
   "source": [
    "# Pastikan tidak ada nilai kosong\n",
    "print(\"\\nMissing Values Check:\")\n",
    "print(df.isnull().sum())"
   ]
  },
  {
   "cell_type": "code",
   "execution_count": 100,
   "id": "c5efed32-a6e6-454c-b4e1-c21ff26621a5",
   "metadata": {},
   "outputs": [],
   "source": [
    "# Pisahkan variabel prediktor dan respon\n",
    "X = df[['Klasifikasi Desa Kota', 'Jumlah Balita', 'Jumlah ART', 'Status Tempat Tinggal', 'Luas Bangunan', 'Jenis Atap', 'Jenis Dinding', 'Sumber Air Minum', 'Bahan Bakar Masak', 'Fasilitas KUR', 'Motor', 'Mobil', 'Penghasilan Utama' ]]  # Variabel prediktor\n",
    "y = df['BPNT']  # Variabel respon"
   ]
  },
  {
   "cell_type": "code",
   "execution_count": 101,
   "id": "257b8af1-48d2-4450-9194-faf5d936f23e",
   "metadata": {},
   "outputs": [],
   "source": [
    "# Tambahkan konstanta untuk model statsmodels\n",
    "X = sm.add_constant(X)"
   ]
  },
  {
   "cell_type": "code",
   "execution_count": 102,
   "id": "070a5647-e1e7-46ae-a535-a02cfc1ef6fd",
   "metadata": {},
   "outputs": [
    {
     "data": {
      "text/html": [
       "<div>\n",
       "<style scoped>\n",
       "    .dataframe tbody tr th:only-of-type {\n",
       "        vertical-align: middle;\n",
       "    }\n",
       "\n",
       "    .dataframe tbody tr th {\n",
       "        vertical-align: top;\n",
       "    }\n",
       "\n",
       "    .dataframe thead th {\n",
       "        text-align: right;\n",
       "    }\n",
       "</style>\n",
       "<table border=\"1\" class=\"dataframe\">\n",
       "  <thead>\n",
       "    <tr style=\"text-align: right;\">\n",
       "      <th></th>\n",
       "      <th>const</th>\n",
       "      <th>Klasifikasi Desa Kota</th>\n",
       "      <th>Jumlah Balita</th>\n",
       "      <th>Jumlah ART</th>\n",
       "      <th>Status Tempat Tinggal</th>\n",
       "      <th>Luas Bangunan</th>\n",
       "      <th>Jenis Atap</th>\n",
       "      <th>Jenis Dinding</th>\n",
       "      <th>Sumber Air Minum</th>\n",
       "      <th>Bahan Bakar Masak</th>\n",
       "      <th>Fasilitas KUR</th>\n",
       "      <th>Motor</th>\n",
       "      <th>Mobil</th>\n",
       "      <th>Penghasilan Utama</th>\n",
       "    </tr>\n",
       "  </thead>\n",
       "  <tbody>\n",
       "    <tr>\n",
       "      <th>0</th>\n",
       "      <td>1.0</td>\n",
       "      <td>1</td>\n",
       "      <td>0</td>\n",
       "      <td>4</td>\n",
       "      <td>1</td>\n",
       "      <td>112</td>\n",
       "      <td>2</td>\n",
       "      <td>1</td>\n",
       "      <td>1</td>\n",
       "      <td>1</td>\n",
       "      <td>2</td>\n",
       "      <td>1</td>\n",
       "      <td>1</td>\n",
       "      <td>1</td>\n",
       "    </tr>\n",
       "    <tr>\n",
       "      <th>1</th>\n",
       "      <td>1.0</td>\n",
       "      <td>1</td>\n",
       "      <td>0</td>\n",
       "      <td>6</td>\n",
       "      <td>1</td>\n",
       "      <td>120</td>\n",
       "      <td>2</td>\n",
       "      <td>1</td>\n",
       "      <td>1</td>\n",
       "      <td>1</td>\n",
       "      <td>2</td>\n",
       "      <td>1</td>\n",
       "      <td>1</td>\n",
       "      <td>1</td>\n",
       "    </tr>\n",
       "    <tr>\n",
       "      <th>2</th>\n",
       "      <td>1.0</td>\n",
       "      <td>1</td>\n",
       "      <td>0</td>\n",
       "      <td>3</td>\n",
       "      <td>1</td>\n",
       "      <td>120</td>\n",
       "      <td>2</td>\n",
       "      <td>1</td>\n",
       "      <td>1</td>\n",
       "      <td>1</td>\n",
       "      <td>1</td>\n",
       "      <td>1</td>\n",
       "      <td>2</td>\n",
       "      <td>1</td>\n",
       "    </tr>\n",
       "    <tr>\n",
       "      <th>3</th>\n",
       "      <td>1.0</td>\n",
       "      <td>1</td>\n",
       "      <td>0</td>\n",
       "      <td>2</td>\n",
       "      <td>1</td>\n",
       "      <td>180</td>\n",
       "      <td>2</td>\n",
       "      <td>1</td>\n",
       "      <td>1</td>\n",
       "      <td>1</td>\n",
       "      <td>2</td>\n",
       "      <td>1</td>\n",
       "      <td>1</td>\n",
       "      <td>2</td>\n",
       "    </tr>\n",
       "    <tr>\n",
       "      <th>4</th>\n",
       "      <td>1.0</td>\n",
       "      <td>1</td>\n",
       "      <td>1</td>\n",
       "      <td>5</td>\n",
       "      <td>1</td>\n",
       "      <td>180</td>\n",
       "      <td>2</td>\n",
       "      <td>2</td>\n",
       "      <td>2</td>\n",
       "      <td>1</td>\n",
       "      <td>2</td>\n",
       "      <td>1</td>\n",
       "      <td>2</td>\n",
       "      <td>1</td>\n",
       "    </tr>\n",
       "    <tr>\n",
       "      <th>...</th>\n",
       "      <td>...</td>\n",
       "      <td>...</td>\n",
       "      <td>...</td>\n",
       "      <td>...</td>\n",
       "      <td>...</td>\n",
       "      <td>...</td>\n",
       "      <td>...</td>\n",
       "      <td>...</td>\n",
       "      <td>...</td>\n",
       "      <td>...</td>\n",
       "      <td>...</td>\n",
       "      <td>...</td>\n",
       "      <td>...</td>\n",
       "      <td>...</td>\n",
       "    </tr>\n",
       "    <tr>\n",
       "      <th>1910</th>\n",
       "      <td>1.0</td>\n",
       "      <td>2</td>\n",
       "      <td>0</td>\n",
       "      <td>6</td>\n",
       "      <td>1</td>\n",
       "      <td>72</td>\n",
       "      <td>2</td>\n",
       "      <td>1</td>\n",
       "      <td>3</td>\n",
       "      <td>1</td>\n",
       "      <td>2</td>\n",
       "      <td>1</td>\n",
       "      <td>2</td>\n",
       "      <td>1</td>\n",
       "    </tr>\n",
       "    <tr>\n",
       "      <th>1911</th>\n",
       "      <td>1.0</td>\n",
       "      <td>2</td>\n",
       "      <td>0</td>\n",
       "      <td>5</td>\n",
       "      <td>1</td>\n",
       "      <td>54</td>\n",
       "      <td>2</td>\n",
       "      <td>1</td>\n",
       "      <td>3</td>\n",
       "      <td>1</td>\n",
       "      <td>2</td>\n",
       "      <td>1</td>\n",
       "      <td>2</td>\n",
       "      <td>1</td>\n",
       "    </tr>\n",
       "    <tr>\n",
       "      <th>1912</th>\n",
       "      <td>1.0</td>\n",
       "      <td>2</td>\n",
       "      <td>0</td>\n",
       "      <td>1</td>\n",
       "      <td>1</td>\n",
       "      <td>54</td>\n",
       "      <td>2</td>\n",
       "      <td>1</td>\n",
       "      <td>3</td>\n",
       "      <td>3</td>\n",
       "      <td>2</td>\n",
       "      <td>2</td>\n",
       "      <td>2</td>\n",
       "      <td>1</td>\n",
       "    </tr>\n",
       "    <tr>\n",
       "      <th>1913</th>\n",
       "      <td>1.0</td>\n",
       "      <td>2</td>\n",
       "      <td>0</td>\n",
       "      <td>1</td>\n",
       "      <td>1</td>\n",
       "      <td>45</td>\n",
       "      <td>2</td>\n",
       "      <td>3</td>\n",
       "      <td>2</td>\n",
       "      <td>3</td>\n",
       "      <td>2</td>\n",
       "      <td>2</td>\n",
       "      <td>2</td>\n",
       "      <td>2</td>\n",
       "    </tr>\n",
       "    <tr>\n",
       "      <th>1914</th>\n",
       "      <td>1.0</td>\n",
       "      <td>2</td>\n",
       "      <td>0</td>\n",
       "      <td>4</td>\n",
       "      <td>1</td>\n",
       "      <td>62</td>\n",
       "      <td>2</td>\n",
       "      <td>1</td>\n",
       "      <td>2</td>\n",
       "      <td>1</td>\n",
       "      <td>2</td>\n",
       "      <td>1</td>\n",
       "      <td>2</td>\n",
       "      <td>1</td>\n",
       "    </tr>\n",
       "  </tbody>\n",
       "</table>\n",
       "<p>1915 rows × 14 columns</p>\n",
       "</div>"
      ],
      "text/plain": [
       "      const  Klasifikasi Desa Kota  Jumlah Balita  Jumlah ART  \\\n",
       "0       1.0                      1              0           4   \n",
       "1       1.0                      1              0           6   \n",
       "2       1.0                      1              0           3   \n",
       "3       1.0                      1              0           2   \n",
       "4       1.0                      1              1           5   \n",
       "...     ...                    ...            ...         ...   \n",
       "1910    1.0                      2              0           6   \n",
       "1911    1.0                      2              0           5   \n",
       "1912    1.0                      2              0           1   \n",
       "1913    1.0                      2              0           1   \n",
       "1914    1.0                      2              0           4   \n",
       "\n",
       "      Status Tempat Tinggal  Luas Bangunan  Jenis Atap  Jenis Dinding  \\\n",
       "0                         1            112           2              1   \n",
       "1                         1            120           2              1   \n",
       "2                         1            120           2              1   \n",
       "3                         1            180           2              1   \n",
       "4                         1            180           2              2   \n",
       "...                     ...            ...         ...            ...   \n",
       "1910                      1             72           2              1   \n",
       "1911                      1             54           2              1   \n",
       "1912                      1             54           2              1   \n",
       "1913                      1             45           2              3   \n",
       "1914                      1             62           2              1   \n",
       "\n",
       "      Sumber Air Minum  Bahan Bakar Masak  Fasilitas KUR  Motor  Mobil  \\\n",
       "0                    1                  1              2      1      1   \n",
       "1                    1                  1              2      1      1   \n",
       "2                    1                  1              1      1      2   \n",
       "3                    1                  1              2      1      1   \n",
       "4                    2                  1              2      1      2   \n",
       "...                ...                ...            ...    ...    ...   \n",
       "1910                 3                  1              2      1      2   \n",
       "1911                 3                  1              2      1      2   \n",
       "1912                 3                  3              2      2      2   \n",
       "1913                 2                  3              2      2      2   \n",
       "1914                 2                  1              2      1      2   \n",
       "\n",
       "      Penghasilan Utama  \n",
       "0                     1  \n",
       "1                     1  \n",
       "2                     1  \n",
       "3                     2  \n",
       "4                     1  \n",
       "...                 ...  \n",
       "1910                  1  \n",
       "1911                  1  \n",
       "1912                  1  \n",
       "1913                  2  \n",
       "1914                  1  \n",
       "\n",
       "[1915 rows x 14 columns]"
      ]
     },
     "execution_count": 102,
     "metadata": {},
     "output_type": "execute_result"
    }
   ],
   "source": [
    "X"
   ]
  },
  {
   "cell_type": "markdown",
   "id": "ad837e85-7c91-4614-9194-4b71aa075ca2",
   "metadata": {},
   "source": [
    "# Split Data"
   ]
  },
  {
   "cell_type": "code",
   "execution_count": 103,
   "id": "5f1752c2-eed1-444f-a542-9391e77f0bcc",
   "metadata": {},
   "outputs": [],
   "source": [
    "# Pisahkan data menjadi training dan testing\n",
    "X_train, X_test, y_train, y_test = train_test_split(X, y, test_size=0.3, random_state=42)"
   ]
  },
  {
   "cell_type": "markdown",
   "id": "8a558080-9017-466d-a95e-255e6b5162cc",
   "metadata": {},
   "source": [
    "# Pembentukan Model"
   ]
  },
  {
   "cell_type": "code",
   "execution_count": 104,
   "id": "52e2462b-460d-4e4f-8997-82835fc25e14",
   "metadata": {
    "scrolled": true
   },
   "outputs": [
    {
     "name": "stdout",
     "output_type": "stream",
     "text": [
      "Optimization terminated successfully.\n",
      "         Current function value: 0.565829\n",
      "         Iterations 7\n"
     ]
    }
   ],
   "source": [
    "# Membuat model regresi logistik menggunakan statsmodels\n",
    "model = sm.Logit(y_train, X_train)\n",
    "result = model.fit()"
   ]
  },
  {
   "cell_type": "markdown",
   "id": "f3196cf7-e29f-4957-827b-c56f2174cba6",
   "metadata": {},
   "source": [
    "Secara keseluruhan, output ini menunjukkan bahwa algoritma regresi logistik telah berhasil menemukan nilai parameter yang optimal untuk model, dan model tersebut memiliki nilai log-likelihood sebesar 0.565829 setelah 7 iterasi.\n",
    "\n",
    "---"
   ]
  },
  {
   "cell_type": "code",
   "execution_count": 105,
   "id": "75f15835-a3dd-4201-9cc8-ccc1f65481b9",
   "metadata": {},
   "outputs": [
    {
     "name": "stdout",
     "output_type": "stream",
     "text": [
      "                           Logit Regression Results                           \n",
      "==============================================================================\n",
      "Dep. Variable:                   BPNT   No. Observations:                 1340\n",
      "Model:                          Logit   Df Residuals:                     1326\n",
      "Method:                           MLE   Df Model:                           13\n",
      "Date:                Sun, 22 Dec 2024   Pseudo R-squ.:                 0.08657\n",
      "Time:                        21:23:09   Log-Likelihood:                -758.21\n",
      "converged:                       True   LL-Null:                       -830.07\n",
      "Covariance Type:            nonrobust   LLR p-value:                 3.765e-24\n",
      "=========================================================================================\n",
      "                            coef    std err          z      P>|z|      [0.025      0.975]\n",
      "-----------------------------------------------------------------------------------------\n",
      "const                    -7.1481      1.265     -5.649      0.000      -9.628      -4.668\n",
      "Klasifikasi Desa Kota     0.0806      0.142      0.568      0.570      -0.197       0.359\n",
      "Jumlah Balita            -0.4814      0.156     -3.084      0.002      -0.787      -0.175\n",
      "Jumlah ART                0.3325      0.055      6.001      0.000       0.224       0.441\n",
      "Status Tempat Tinggal    -0.2136      0.312     -0.684      0.494      -0.825       0.398\n",
      "Luas Bangunan            -0.0036      0.001     -3.183      0.001      -0.006      -0.001\n",
      "Jenis Atap               -0.1553      0.147     -1.059      0.290      -0.443       0.132\n",
      "Jenis Dinding             0.4502      0.090      4.993      0.000       0.273       0.627\n",
      "Sumber Air Minum          0.0897      0.105      0.855      0.393      -0.116       0.295\n",
      "Bahan Bakar Masak         0.1378      0.085      1.627      0.104      -0.028       0.304\n",
      "Fasilitas KUR            -0.0440      0.188     -0.234      0.815      -0.412       0.324\n",
      "Motor                     0.7440      0.182      4.086      0.000       0.387       1.101\n",
      "Mobil                     2.2913      0.522      4.391      0.000       1.269       3.314\n",
      "Penghasilan Utama        -0.2130      0.224     -0.950      0.342      -0.652       0.226\n",
      "=========================================================================================\n"
     ]
    }
   ],
   "source": [
    "# Menampilkan summary model\n",
    "print(result.summary())"
   ]
  },
  {
   "cell_type": "markdown",
   "id": "61940905-9060-4208-a977-39e8f5324b2c",
   "metadata": {},
   "source": [
    "**Interpretasi Koefisien:**\n",
    "\n",
    "- *Koefisien* : Menunjukkan arah dan kekuatan pengaruh suatu variabel independen terhadap probabilitas menerima BPNT. Koefisien positif berarti peningkatan variabel tersebut cenderung meningkatkan probabilitas menerima BPNT, sedangkan koefisien negatif berarti penurunan probabilitas.\n",
    "- *P-value* : Menunjukkan tingkat signifikansi statistik dari koefisien. Semakin kecil p-value (biasanya < 0.05), semakin kuat bukti bahwa koefisien tersebut berbeda dari nol, artinya variabel tersebut memiliki pengaruh yang signifikan terhadap variabel dependen.\n",
    "- *Odds Ratio* : Eksponensial dari koefisien (e^koefisien). Menunjukkan perubahan odds (peluang) menerima BPNT jika variabel independen dinaikkan satu satuan, dengan asumsi variabel lain tetap.\n",
    "\n",
    "\n",
    "**Contoh Interpretasi:**\n",
    "\n",
    "- *Jumlah Balita* : Koefisien -0.4814 dan p-value 0.002 menunjukkan bahwa semakin banyak jumlah balita dalam keluarga, semakin kecil kemungkinan keluarga tersebut menerima BPNT.\n",
    "- *Motor* : Koefisien 0.7440 dan p-value 0.000 menunjukkan bahwa keluarga yang memiliki motor memiliki peluang lebih tinggi untuk menerima BPNT dibandingkan dengan keluarga yang tidak memiliki motor.\n",
    "\n",
    "---"
   ]
  },
  {
   "cell_type": "code",
   "execution_count": 106,
   "id": "afdfd8ec-0ea8-4b0d-b391-6fb0caecd48e",
   "metadata": {},
   "outputs": [],
   "source": [
    "# Prediksi menggunakan model statsmodels\n",
    "y_pred = result.predict(X_test) > 0.5\n",
    "y_prob = result.predict(X_test)"
   ]
  },
  {
   "cell_type": "code",
   "execution_count": 107,
   "id": "9fe4a188-e63e-4ab7-abe7-036cb864442b",
   "metadata": {},
   "outputs": [
    {
     "name": "stdout",
     "output_type": "stream",
     "text": [
      "      y_test  Prediksi  Probabilitas\n",
      "1232       0     False      0.228094\n",
      "111        0     False      0.293567\n",
      "316        0     False      0.217051\n",
      "781        0     False      0.360694\n",
      "416        0     False      0.064553\n",
      "...      ...       ...           ...\n",
      "1829       0     False      0.275427\n",
      "493        0     False      0.343569\n",
      "1402       0     False      0.386429\n",
      "277        0     False      0.031451\n",
      "1768       0     False      0.307248\n",
      "\n",
      "[575 rows x 3 columns]\n"
     ]
    }
   ],
   "source": [
    "# Membuat DataFrame dari y_pred dan y_prob\n",
    "prediksi = pd.DataFrame({\n",
    "    'y_test': y_test,\n",
    "    'Prediksi': y_pred,\n",
    "    'Probabilitas': y_prob\n",
    "})\n",
    "\n",
    "# Menampilkan DataFrame\n",
    "print(prediksi)"
   ]
  },
  {
   "cell_type": "markdown",
   "id": "903f4fb9-d4d1-41e2-9380-c284c2c8345b",
   "metadata": {},
   "source": [
    "**Interpretasi:**\n",
    "\n",
    "Dari tabel tersebut, kita dapat melihat bahwa model umumnya memprediksi bahwa sebagian besar individu dalam data pengujian tidak akan menerima bantuan BPNT. Ini terlihat dari banyaknya prediksi \"False\" pada kolom Prediksi.\n",
    "\n",
    "\n",
    "**Contoh Interpretasi Baris Pertama:**\n",
    "\n",
    "- *y_test = 0* : Individu dengan indeks 1232 dalam data pengujian sebenarnya tidak menerima bantuan BPNT (nilai sebenarnya).\n",
    "- *Prediksi = False* : Model memprediksi bahwa individu ini juga tidak akan menerima bantuan BPNT.\n",
    "- *Probabilitas = 0.228094* : Model memiliki tingkat kepercayaan sekitar 22.8% bahwa prediksi \"False\" ini benar.\n",
    "\n",
    "---"
   ]
  },
  {
   "cell_type": "markdown",
   "id": "ec95c7f2-85b0-43c8-9016-f1951d8381f7",
   "metadata": {},
   "source": [
    "# Ukuran Kebaikan Model"
   ]
  },
  {
   "cell_type": "code",
   "execution_count": 108,
   "id": "db829373-18b5-4f54-8d2c-6b8acb3188ca",
   "metadata": {},
   "outputs": [
    {
     "name": "stdout",
     "output_type": "stream",
     "text": [
      "Accuracy: 0.7373913043478261\n",
      "Confusion Matrix:\n",
      " [[389  21]\n",
      " [130  35]]\n",
      "Classification Report:\n",
      "               precision    recall  f1-score   support\n",
      "\n",
      "           0       0.75      0.95      0.84       410\n",
      "           1       0.62      0.21      0.32       165\n",
      "\n",
      "    accuracy                           0.74       575\n",
      "   macro avg       0.69      0.58      0.58       575\n",
      "weighted avg       0.71      0.74      0.69       575\n",
      "\n"
     ]
    }
   ],
   "source": [
    "# Ukuran kebaikan model\n",
    "print(\"Accuracy:\", accuracy_score(y_test, y_pred))\n",
    "print(\"Confusion Matrix:\\n\", confusion_matrix(y_test, y_pred))\n",
    "print(\"Classification Report:\\n\", classification_report(y_test, y_pred))"
   ]
  },
  {
   "cell_type": "markdown",
   "id": "db709d3d-ff60-4ca5-8b8c-acc1b94f6cc3",
   "metadata": {},
   "source": [
    "**Akurasi (Accuracy): 0.7373913043478261**\n",
    "\n",
    "*Artinya*, model berhasil memprediksi dengan benar sekitar 73,74% dari seluruh data pengujian. Ini berarti, dari semua prediksi yang dibuat, sekitar 73,74% prediksi tersebut sesuai dengan kenyataan di lapangan.\n",
    "Confusion Matrix\n",
    "\n",
    "\n",
    "**[[389 21] [130 35]]**\n",
    "Matriks ini memberikan gambaran lebih detail tentang seberapa baik model Anda dalam mengklasifikasikan data.\n",
    "- *389* : Jumlah data yang sebenarnya tidak menerima BPNT dan berhasil diprediksi sebagai tidak menerima BPNT (True Negative).\n",
    "- *21* : Jumlah data yang sebenarnya tidak menerima BPNT tetapi salah diprediksi sebagai menerima BPNT (False Positive).\n",
    "- *130* : Jumlah data yang sebenarnya menerima BPNT tetapi salah diprediksi sebagai tidak menerima BPNT (False Negative).\n",
    "- *35* : Jumlah data yang sebenarnya menerima BPNT dan berhasil diprediksi sebagai menerima BPNT (True Positive).\n",
    "\n",
    "**Classification Report**\n",
    "\n",
    "- *Precision* : Mengukur seberapa akurat prediksi positif (menerima BPNT). Nilai precision yang tinggi menunjukkan bahwa ketika model memprediksi seseorang akan menerima BPNT, prediksi tersebut cenderung benar.\n",
    "- *Recall* : Mengukur seberapa banyak dari data positif (yang sebenarnya menerima BPNT) yang berhasil diidentifikasi oleh model. Nilai recall yang tinggi menunjukkan bahwa model mampu menemukan sebagian besar kasus positif.\n",
    "- *F1-score* : Merupakan nilai rata-rata harmonik antara precision dan recall, memberikan gambaran keseluruhan tentang kinerja model.\n",
    "\n",
    "\n",
    "**Interpretasi Keseluruhan:**\n",
    "\n",
    "Berdasarkan hasil evaluasi, model ini cukup baik dalam memprediksi individu yang tidak berhak menerima BPNT (kelas 0). Namun, model masih kesulitan dalam mengidentifikasi individu yang berhak menerima BPNT (kelas 1). Hal ini terlihat dari nilai recall yang rendah untuk kelas 1.\n",
    "\n",
    "\n",
    "---"
   ]
  },
  {
   "cell_type": "code",
   "execution_count": 109,
   "id": "26a37859-468d-458b-aab8-d6ea1c4801c2",
   "metadata": {},
   "outputs": [
    {
     "data": {
      "image/png": "[encoded data removed]",
      "text/plain": [
       "<Figure size 800x600 with 1 Axes>"
      ]
     },
     "metadata": {},
     "output_type": "display_data"
    },
    {
     "name": "stdout",
     "output_type": "stream",
     "text": [
      "AUC: 0.71\n"
     ]
    }
   ],
   "source": [
    "# Kurva ROC dan AUC\n",
    "fpr, tpr, thresholds = roc_curve(y_test, y_prob)\n",
    "roc_auc = auc(fpr, tpr)\n",
    "\n",
    "# Plot kurva ROC\n",
    "plt.figure(figsize=(8, 6))\n",
    "plt.plot(fpr, tpr, color='darkorange', lw=2, label=f'ROC Curve (AUC = {roc_auc:.2f})')\n",
    "plt.plot([0, 1], [0, 1], color='navy', lw=2, linestyle='--')\n",
    "plt.xlabel('False Positive Rate')\n",
    "plt.ylabel('True Positive Rate')\n",
    "plt.title('Receiver Operating Characteristic (ROC) Curve')\n",
    "plt.legend(loc=\"lower right\")\n",
    "plt.show()\n",
    "\n",
    "# Menampilkan nilai AUC\n",
    "print(f\"AUC: {roc_auc:.2f}\")"
   ]
  },
  {
   "cell_type": "markdown",
   "id": "5914a2e0-84c8-4c4b-9d4b-74aed6572152",
   "metadata": {},
   "source": [
    "**Kurva ROC adalah visualisasi yang digunakan untuk mengukur kinerja model klasifikasi biner. Grafik ini menggambarkan hubungan antara true positive rate (TPR) dan false positive rate (FPR) pada berbagai ambang batas klasifikasi.**\n",
    "\n",
    "**Komponen Utama Kurva ROC:**\n",
    "- *True Positive Rate (TPR) atau Sensitivity* : Proporsi instance positif yang benar-benar diklasifikasikan sebagai positif. Semakin tinggi TPR, semakin baik model dalam mengidentifikasi kasus positif.\n",
    "- *False Positive Rate (FPR)* : Proporsi instance negatif yang salah diklasifikasikan sebagai positif. Semakin rendah FPR, semakin sedikit kesalahan dalam mengklasifikasikan kasus negatif sebagai positif.\n",
    "- *Area Under the Curve (AUC)* : Luas di bawah kurva ROC. Nilai AUC berkisar antara 0 hingga 1. Semakin tinggi nilai AUC, semakin baik kinerja model. Nilai AUC 0.5 menunjukkan model tidak lebih baik dari sekadar menebak secara acak.\n",
    "\n",
    "\n",
    "**Interpretasi Grafik ROC:**\n",
    "- *Garis Diagonal* : Garis diagonal pada grafik mewakili kinerja model yang benar-benar acak. Jika model berada di sekitar garis diagonal, artinya kinerja model tidak jauh berbeda dari menebak secara acak.\n",
    "- *Kurva Model* : Kurva oranye pada grafik mewakili kinerja model. Semakin jauh kurva dari garis diagonal dan semakin dekat ke sudut kiri atas, semakin baik kinerja model tersebut.\n",
    "- *AUC = 0.71* : Nilai AUC 0.71 menunjukkan bahwa model ini memiliki kinerja yang cukup baik, tetapi masih ada ruang untuk perbaikan.\n",
    "\n",
    "---"
   ]
  },
  {
   "cell_type": "markdown",
   "id": "0699c1a0-1284-46d9-bafb-848e722b0e32",
   "metadata": {},
   "source": [
    "# Odds Ratio"
   ]
  },
  {
   "cell_type": "code",
   "execution_count": 110,
   "id": "e8f79aa7-79f6-49c2-8b49-5ceb7c87141d",
   "metadata": {},
   "outputs": [
    {
     "name": "stdout",
     "output_type": "stream",
     "text": [
      "                 Variable  Coefficient (β)  Odds Ratio\n",
      "0                   const        -7.148104    0.000786\n",
      "1   Klasifikasi Desa Kota         0.080575    1.083911\n",
      "2           Jumlah Balita        -0.481359    0.617943\n",
      "3              Jumlah ART         0.332464    1.394400\n",
      "4   Status Tempat Tinggal        -0.213551    0.807711\n",
      "5           Luas Bangunan        -0.003641    0.996366\n",
      "6              Jenis Atap        -0.155260    0.856193\n",
      "7           Jenis Dinding         0.450190    1.568610\n",
      "8        Sumber Air Minum         0.089695    1.093840\n",
      "9       Bahan Bakar Masak         0.137797    1.147742\n",
      "10          Fasilitas KUR        -0.044005    0.956949\n",
      "11                  Motor         0.744039    2.104418\n",
      "12                  Mobil         2.291270    9.887482\n",
      "13      Penghasilan Utama        -0.212983    0.808170\n"
     ]
    }
   ],
   "source": [
    "# Mendapatkan Odds Ratio\n",
    "odds_ratios = np.exp(result.params)  # Menghitung nilai Odds Ratio\n",
    "\n",
    "# Menampilkan Koefisien dan Odds Ratio\n",
    "odds_ratios_df = pd.DataFrame({\n",
    "    'Variable': result.params.index,  # Nama variabel\n",
    "    'Coefficient (β)': result.params.values,  # Koefisien logistik\n",
    "    'Odds Ratio': odds_ratios.values  # Odds Ratio\n",
    "})\n",
    "\n",
    "print(odds_ratios_df)"
   ]
  },
  {
   "cell_type": "markdown",
   "id": "358acfef-e742-47cf-a72c-311a07358512",
   "metadata": {},
   "source": [
    "\n",
    "\n",
    "**Interpretasi Odds Ratio:**\n",
    "\n",
    "- *Odds Ratio > 1* : Artinya, jika nilai variabel independen naik satu satuan, maka odds (peluang) seseorang menerima BPNT akan meningkat. Semakin besar nilai odds ratio, semakin kuat pengaruh variabel tersebut terhadap peningkatan peluang menerima BPNT.\n",
    "- *Odds Ratio < 1* : Artinya, jika nilai variabel independen naik satu satuan, maka odds (peluang) seseorang menerima BPNT akan menurun. Semakin kecil nilai odds ratio, semakin kuat pengaruh variabel tersebut terhadap penurunan peluang menerima BPNT.\n",
    "- *Odds Ratio = 1* : Artinya, perubahan nilai variabel independen tidak berpengaruh terhadap odds (peluang) seseorang menerima BPNT.\n",
    "\n",
    "**Contoh Interpretasi:**\n",
    "\n",
    "- *Jumlah Balita* : Odds ratio 0.617943 < 1. Artinya, semakin banyak jumlah balita dalam keluarga, semakin kecil kemungkinan keluarga tersebut menerima BPNT.\n",
    "- *Motor* : Odds ratio 2.104418 > 1. Artinya, keluarga yang memiliki motor memiliki peluang lebih tinggi untuk menerima BPNT dibandingkan dengan keluarga yang tidak memiliki motor.\n",
    "- *Mobil* : Odds ratio 9.887482 >> 1. Artinya, keluarga yang memiliki mobil memiliki peluang jauh lebih tinggi untuk menerima BPNT dibandingkan dengan keluarga yang tidak memiliki mobil.\n",
    "\n",
    "---"
   ]
  },
  {
   "cell_type": "markdown",
   "id": "bc1b40cf-35f2-46c6-a297-33d57eca8917",
   "metadata": {},
   "source": [
    "# Asumsi"
   ]
  },
  {
   "cell_type": "code",
   "execution_count": 111,
   "id": "694a8520-a455-48d1-9d08-71ebe109a7f2",
   "metadata": {},
   "outputs": [
    {
     "name": "stdout",
     "output_type": "stream",
     "text": [
      "                 Variable         VIF\n",
      "0                   const  190.430602\n",
      "1   Klasifikasi Desa Kota    1.136640\n",
      "2           Jumlah Balita    1.310427\n",
      "3              Jumlah ART    1.543778\n",
      "4   Status Tempat Tinggal    1.041832\n",
      "5           Luas Bangunan    1.177738\n",
      "6              Jenis Atap    1.095155\n",
      "7           Jenis Dinding    1.145610\n",
      "8        Sumber Air Minum    1.158024\n",
      "9       Bahan Bakar Masak    1.101906\n",
      "10          Fasilitas KUR    1.041918\n",
      "11                  Motor    1.321557\n",
      "12                  Mobil    1.076396\n",
      "13      Penghasilan Utama    1.162032\n"
     ]
    }
   ],
   "source": [
    "from statsmodels.stats.outliers_influence import variance_inflation_factor\n",
    "\n",
    "# Fungsi untuk menghitung VIF\n",
    "def calculate_vif(X):\n",
    "    vif_data = pd.DataFrame()\n",
    "    vif_data[\"Variable\"] = X.columns\n",
    "    vif_data[\"VIF\"] = [variance_inflation_factor(X.values, i) for i in range(X.shape[1])]\n",
    "    return vif_data\n",
    "\n",
    "# Menghitung VIF untuk variabel di training set\n",
    "vif_result = calculate_vif(X_train)\n",
    "print(vif_result)\n"
   ]
  },
  {
   "cell_type": "markdown",
   "id": "21a95aa1-a5e7-4cf2-b17d-86157d962a30",
   "metadata": {},
   "source": [
    "**Interpretasi Tabel VIF:**\n",
    "\n",
    "- *Nilai VIF* : Semakin tinggi nilai VIF, semakin besar tingkat multikolinearitas antara variabel tersebut dengan variabel independen lainnya.\n",
    "- *Ambang Batas* : Umumnya, nilai VIF di atas 10 dianggap menunjukkan adanya masalah multikolinearitas yang serius. Namun, beberapa sumber menggunakan ambang batas yang berbeda, seperti 5 atau 7.\n",
    "\n",
    "**Interpretasi Model:**\n",
    "\n",
    "- *Tidak ada masalah multikolinearitas yang signifikan* : Sebagian besar variabel memiliki nilai VIF yang jauh di bawah 10. Ini mengindikasikan bahwa tidak ada korelasi yang sangat tinggi antara variabel-variabel tersebut.\n",
    "- *Potensi masalah kecil* : Beberapa variabel seperti \"Jumlah Balita\", \"Jumlah ART\", dan \"Motor\" memiliki nilai VIF yang sedikit di atas 1. Meskipun tidak terlalu mengkhawatirkan, \n",
    "---"
   ]
  },
  {
   "cell_type": "code",
   "execution_count": null,
   "id": "2b49fe82-3e88-4061-b713-3dd3ca08b50a",
   "metadata": {},
   "outputs": [],
   "source": []
  }
 ],
 "metadata": {
  "kernelspec": {
   "display_name": "Python 3 (ipykernel)",
   "language": "python",
   "name": "python3"
  },
  "language_info": {
   "codemirror_mode": {
    "name": "ipython",
    "version": 3
   },
   "file_extension": ".py",
   "mimetype": "text/x-python",
   "name": "python",
   "nbconvert_exporter": "python",
   "pygments_lexer": "ipython3",
   "version": "3.12.7"
  }
 },
 "nbformat": 4,
 "nbformat_minor": 5
}
